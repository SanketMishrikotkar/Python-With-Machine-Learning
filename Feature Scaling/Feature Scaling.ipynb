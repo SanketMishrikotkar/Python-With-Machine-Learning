{
 "cells": [
  {
   "cell_type": "code",
   "execution_count": 2,
   "metadata": {},
   "outputs": [],
   "source": [
    "import pandas as pd\n",
    "import numpy as np\n",
    "import matplotlib.pyplot as plt\n",
    "from sklearn.preprocessing import MinMaxScaler\n",
    "from sklearn.preprocessing import StandardScaler"
   ]
  },
  {
   "attachments": {
    "image-2.png": {
     "image/png": "[encoded data removed]"
    }
   },
   "cell_type": "markdown",
   "metadata": {},
   "source": [
    "## What is Normalization?\n",
    "\n",
    "#### Normalization is a scaling technique in which values are shifted and rescaled so that they end up ranging between 0 and 1. It is also known as Min-Max scaling.\n",
    "\n",
    "![image-2.png](attachment:image-2.png)"
   ]
  },
  {
   "cell_type": "code",
   "execution_count": 3,
   "metadata": {},
   "outputs": [
    {
     "data": {
      "text/plain": [
       "array([ 1. , 12.4,  3.9, 10.4])"
      ]
     },
     "execution_count": 3,
     "metadata": {},
     "output_type": "execute_result"
    }
   ],
   "source": [
    "data=np.array([1.0,12.4,3.9,10.4])\n",
    "data"
   ]
  },
  {
   "cell_type": "markdown",
   "metadata": {},
   "source": [
    "### For [0,1]"
   ]
  },
  {
   "cell_type": "code",
   "execution_count": 4,
   "metadata": {},
   "outputs": [
    {
     "data": {
      "text/plain": [
       "array([0.        , 1.        , 0.25438596, 0.8245614 ])"
      ]
     },
     "execution_count": 4,
     "metadata": {},
     "output_type": "execute_result"
    }
   ],
   "source": [
    "#X-Xmin / Xmax-Xmin\n",
    "norm=(data-np.min(data))/(np.max(data)-np.min(data))\n",
    "norm"
   ]
  },
  {
   "cell_type": "markdown",
   "metadata": {},
   "source": [
    "### For [a,b]"
   ]
  },
  {
   "cell_type": "code",
   "execution_count": 5,
   "metadata": {},
   "outputs": [
    {
     "data": {
      "text/plain": [
       "array([ 5.        , 10.        ,  6.27192982,  9.12280702])"
      ]
     },
     "execution_count": 5,
     "metadata": {},
     "output_type": "execute_result"
    }
   ],
   "source": [
    "a=5\n",
    "b=10\n",
    "norm=a+((data-np.min(data))* (b-a)/(np.max(data)-np.min(data)))\n",
    "norm"
   ]
  },
  {
   "cell_type": "markdown",
   "metadata": {},
   "source": [
    "### MinMaxScaler for normalization of Data in range  between 0 and 1"
   ]
  },
  {
   "cell_type": "code",
   "execution_count": 10,
   "metadata": {},
   "outputs": [
    {
     "data": {
      "text/plain": [
       "array([[0.        ],\n",
       "       [1.        ],\n",
       "       [0.25438596],\n",
       "       [0.8245614 ]])"
      ]
     },
     "execution_count": 10,
     "metadata": {},
     "output_type": "execute_result"
    }
   ],
   "source": [
    "mm=MinMaxScaler()\n",
    "#fit \n",
    "#transform\n",
    "#inverse transform\n",
    "#fit_transform\n",
    "mm.fit(data.reshape(-1,1))\n",
    "norm=mm.transform(data.reshape(-1,1))\n",
    "norm"
   ]
  },
  {
   "cell_type": "code",
   "execution_count": 12,
   "metadata": {},
   "outputs": [
    {
     "data": {
      "text/plain": [
       "array([[3.89999994]])"
      ]
     },
     "execution_count": 12,
     "metadata": {},
     "output_type": "execute_result"
    }
   ],
   "source": [
    "mm.inverse_transform([[0.25438596]]) #=> 3.9"
   ]
  },
  {
   "cell_type": "code",
   "execution_count": 13,
   "metadata": {},
   "outputs": [
    {
     "data": {
      "text/plain": [
       "array([[0.        ],\n",
       "       [1.        ],\n",
       "       [0.25438596],\n",
       "       [0.8245614 ]])"
      ]
     },
     "execution_count": 13,
     "metadata": {},
     "output_type": "execute_result"
    }
   ],
   "source": [
    "mm.fit_transform(data.reshape(-1,1))"
   ]
  },
  {
   "cell_type": "markdown",
   "metadata": {},
   "source": [
    "### MinMaxScaler for normalization of Data in range  between a and b"
   ]
  },
  {
   "cell_type": "code",
   "execution_count": 15,
   "metadata": {},
   "outputs": [
    {
     "data": {
      "text/plain": [
       "array([[ 5.        ],\n",
       "       [10.        ],\n",
       "       [ 6.27192982],\n",
       "       [ 9.12280702]])"
      ]
     },
     "execution_count": 15,
     "metadata": {},
     "output_type": "execute_result"
    }
   ],
   "source": [
    "a=5\n",
    "b=10\n",
    "mm=MinMaxScaler(feature_range=(a,b))\n",
    "mm.fit(data.reshape(-1,1))\n",
    "norm=mm.transform(data.reshape(-1,1))\n",
    "norm"
   ]
  },
  {
   "cell_type": "code",
   "execution_count": 16,
   "metadata": {},
   "outputs": [
    {
     "data": {
      "text/plain": [
       "array([[ 5.        ],\n",
       "       [10.        ],\n",
       "       [ 6.27192982],\n",
       "       [ 9.12280702]])"
      ]
     },
     "execution_count": 16,
     "metadata": {},
     "output_type": "execute_result"
    }
   ],
   "source": [
    "norm=mm.fit_transform(data.reshape(-1,1))\n",
    "norm"
   ]
  },
  {
   "attachments": {
    "image-2.png": {
     "image/png": "[encoded data removed]"
    }
   },
   "cell_type": "markdown",
   "metadata": {},
   "source": [
    "## What is Standardization?\n",
    "\n",
    "#### Standardization is another scaling technique where the values are centered around the mean with a unit standard deviation. This means that the mean of the attribute becomes zero and the resultant distribution has a unit standard deviation.\n",
    "![image-2.png](attachment:image-2.png)"
   ]
  },
  {
   "cell_type": "code",
   "execution_count": 17,
   "metadata": {},
   "outputs": [
    {
     "data": {
      "text/plain": [
       "array([ 1. , 12.4,  3.9, 10.4])"
      ]
     },
     "execution_count": 17,
     "metadata": {},
     "output_type": "execute_result"
    }
   ],
   "source": [
    "data"
   ]
  },
  {
   "cell_type": "code",
   "execution_count": 19,
   "metadata": {},
   "outputs": [
    {
     "data": {
      "text/plain": [
       "array([-1.27554   ,  1.17866354, -0.65122506,  0.74810152])"
      ]
     },
     "execution_count": 19,
     "metadata": {},
     "output_type": "execute_result"
    }
   ],
   "source": [
    "#scale_data =X -mean / std\n",
    "scaled_data=(data-np.mean(data))/np.std(data)\n",
    "scaled_data"
   ]
  },
  {
   "cell_type": "code",
   "execution_count": 20,
   "metadata": {},
   "outputs": [
    {
     "data": {
      "text/plain": [
       "-1.1102230246251565e-16"
      ]
     },
     "execution_count": 20,
     "metadata": {},
     "output_type": "execute_result"
    }
   ],
   "source": [
    "## mean of scaled Data\n",
    "np.mean(scaled_data)\n",
    "#-1.11022 x 10^ -16"
   ]
  },
  {
   "cell_type": "code",
   "execution_count": 21,
   "metadata": {},
   "outputs": [
    {
     "data": {
      "text/plain": [
       "0.9999999999999998"
      ]
     },
     "execution_count": 21,
     "metadata": {},
     "output_type": "execute_result"
    }
   ],
   "source": [
    "np.std(scaled_data)"
   ]
  },
  {
   "cell_type": "markdown",
   "metadata": {},
   "source": [
    "### StandardScaler z-scale normalization"
   ]
  },
  {
   "cell_type": "code",
   "execution_count": 25,
   "metadata": {},
   "outputs": [
    {
     "data": {
      "text/plain": [
       "array([[-1.27554   ],\n",
       "       [ 1.17866354],\n",
       "       [-0.65122506],\n",
       "       [ 0.74810152]])"
      ]
     },
     "execution_count": 25,
     "metadata": {},
     "output_type": "execute_result"
    }
   ],
   "source": [
    "sc=StandardScaler()\n",
    "#fit\n",
    "#transform\n",
    "#inverse_transform\n",
    "#fit_transform\n",
    "data=data.reshape(-1,1)\n",
    "sc.fit(data)\n",
    "sc.transform(data)"
   ]
  },
  {
   "cell_type": "code",
   "execution_count": 26,
   "metadata": {},
   "outputs": [
    {
     "data": {
      "text/plain": [
       "array([[3.90000001]])"
      ]
     },
     "execution_count": 26,
     "metadata": {},
     "output_type": "execute_result"
    }
   ],
   "source": [
    "sc.inverse_transform([[-0.65122506]])"
   ]
  },
  {
   "cell_type": "code",
   "execution_count": 27,
   "metadata": {},
   "outputs": [
    {
     "data": {
      "text/plain": [
       "array([[-1.27554   ],\n",
       "       [ 1.17866354],\n",
       "       [-0.65122506],\n",
       "       [ 0.74810152]])"
      ]
     },
     "execution_count": 27,
     "metadata": {},
     "output_type": "execute_result"
    }
   ],
   "source": [
    "sc.fit_transform(data)"
   ]
  },
  {
   "cell_type": "code",
   "execution_count": 28,
   "metadata": {},
   "outputs": [],
   "source": [
    " df=pd.read_csv(\"../Data/bodyfat.csv\")"
   ]
  },
  {
   "cell_type": "code",
   "execution_count": 29,
   "metadata": {},
   "outputs": [
    {
     "data": {
      "text/html": [
       "<div>\n",
       "<style scoped>\n",
       "    .dataframe tbody tr th:only-of-type {\n",
       "        vertical-align: middle;\n",
       "    }\n",
       "\n",
       "    .dataframe tbody tr th {\n",
       "        vertical-align: top;\n",
       "    }\n",
       "\n",
       "    .dataframe thead th {\n",
       "        text-align: right;\n",
       "    }\n",
       "</style>\n",
       "<table border=\"1\" class=\"dataframe\">\n",
       "  <thead>\n",
       "    <tr style=\"text-align: right;\">\n",
       "      <th></th>\n",
       "      <th>Density</th>\n",
       "      <th>bodyfat</th>\n",
       "      <th>Age</th>\n",
       "      <th>Weight</th>\n",
       "      <th>Height</th>\n",
       "      <th>Neck</th>\n",
       "      <th>Chest</th>\n",
       "      <th>Abdomen</th>\n",
       "      <th>Hip</th>\n",
       "      <th>Thigh</th>\n",
       "      <th>Knee</th>\n",
       "      <th>Ankle</th>\n",
       "      <th>Biceps</th>\n",
       "      <th>Forearm</th>\n",
       "      <th>Wrist</th>\n",
       "    </tr>\n",
       "  </thead>\n",
       "  <tbody>\n",
       "    <tr>\n",
       "      <th>0</th>\n",
       "      <td>1.0708</td>\n",
       "      <td>12.3</td>\n",
       "      <td>23</td>\n",
       "      <td>154.25</td>\n",
       "      <td>67.75</td>\n",
       "      <td>36.2</td>\n",
       "      <td>93.1</td>\n",
       "      <td>85.2</td>\n",
       "      <td>94.5</td>\n",
       "      <td>59.0</td>\n",
       "      <td>37.3</td>\n",
       "      <td>21.9</td>\n",
       "      <td>32.0</td>\n",
       "      <td>27.4</td>\n",
       "      <td>17.1</td>\n",
       "    </tr>\n",
       "    <tr>\n",
       "      <th>1</th>\n",
       "      <td>1.0853</td>\n",
       "      <td>6.1</td>\n",
       "      <td>22</td>\n",
       "      <td>173.25</td>\n",
       "      <td>72.25</td>\n",
       "      <td>38.5</td>\n",
       "      <td>93.6</td>\n",
       "      <td>83.0</td>\n",
       "      <td>98.7</td>\n",
       "      <td>58.7</td>\n",
       "      <td>37.3</td>\n",
       "      <td>23.4</td>\n",
       "      <td>30.5</td>\n",
       "      <td>28.9</td>\n",
       "      <td>18.2</td>\n",
       "    </tr>\n",
       "    <tr>\n",
       "      <th>2</th>\n",
       "      <td>1.0414</td>\n",
       "      <td>25.3</td>\n",
       "      <td>22</td>\n",
       "      <td>154.00</td>\n",
       "      <td>66.25</td>\n",
       "      <td>34.0</td>\n",
       "      <td>95.8</td>\n",
       "      <td>87.9</td>\n",
       "      <td>99.2</td>\n",
       "      <td>59.6</td>\n",
       "      <td>38.9</td>\n",
       "      <td>24.0</td>\n",
       "      <td>28.8</td>\n",
       "      <td>25.2</td>\n",
       "      <td>16.6</td>\n",
       "    </tr>\n",
       "    <tr>\n",
       "      <th>3</th>\n",
       "      <td>1.0751</td>\n",
       "      <td>10.4</td>\n",
       "      <td>26</td>\n",
       "      <td>184.75</td>\n",
       "      <td>72.25</td>\n",
       "      <td>37.4</td>\n",
       "      <td>101.8</td>\n",
       "      <td>86.4</td>\n",
       "      <td>101.2</td>\n",
       "      <td>60.1</td>\n",
       "      <td>37.3</td>\n",
       "      <td>22.8</td>\n",
       "      <td>32.4</td>\n",
       "      <td>29.4</td>\n",
       "      <td>18.2</td>\n",
       "    </tr>\n",
       "    <tr>\n",
       "      <th>4</th>\n",
       "      <td>1.0340</td>\n",
       "      <td>28.7</td>\n",
       "      <td>24</td>\n",
       "      <td>184.25</td>\n",
       "      <td>71.25</td>\n",
       "      <td>34.4</td>\n",
       "      <td>97.3</td>\n",
       "      <td>100.0</td>\n",
       "      <td>101.9</td>\n",
       "      <td>63.2</td>\n",
       "      <td>42.2</td>\n",
       "      <td>24.0</td>\n",
       "      <td>32.2</td>\n",
       "      <td>27.7</td>\n",
       "      <td>17.7</td>\n",
       "    </tr>\n",
       "  </tbody>\n",
       "</table>\n",
       "</div>"
      ],
      "text/plain": [
       "   Density  bodyfat  Age  Weight  Height  Neck  Chest  Abdomen    Hip  Thigh  \\\n",
       "0   1.0708     12.3   23  154.25   67.75  36.2   93.1     85.2   94.5   59.0   \n",
       "1   1.0853      6.1   22  173.25   72.25  38.5   93.6     83.0   98.7   58.7   \n",
       "2   1.0414     25.3   22  154.00   66.25  34.0   95.8     87.9   99.2   59.6   \n",
       "3   1.0751     10.4   26  184.75   72.25  37.4  101.8     86.4  101.2   60.1   \n",
       "4   1.0340     28.7   24  184.25   71.25  34.4   97.3    100.0  101.9   63.2   \n",
       "\n",
       "   Knee  Ankle  Biceps  Forearm  Wrist  \n",
       "0  37.3   21.9    32.0     27.4   17.1  \n",
       "1  37.3   23.4    30.5     28.9   18.2  \n",
       "2  38.9   24.0    28.8     25.2   16.6  \n",
       "3  37.3   22.8    32.4     29.4   18.2  \n",
       "4  42.2   24.0    32.2     27.7   17.7  "
      ]
     },
     "execution_count": 29,
     "metadata": {},
     "output_type": "execute_result"
    }
   ],
   "source": [
    "df.head()"
   ]
  },
  {
   "cell_type": "code",
   "execution_count": 31,
   "metadata": {},
   "outputs": [
    {
     "data": {
      "text/plain": [
       "<AxesSubplot:>"
      ]
     },
     "execution_count": 31,
     "metadata": {},
     "output_type": "execute_result"
    },
    {
     "data": {
      "image/png": "[encoded data removed]",
      "text/plain": [
       "<Figure size 720x360 with 1 Axes>"
      ]
     },
     "metadata": {
      "needs_background": "light"
     },
     "output_type": "display_data"
    }
   ],
   "source": [
    "df.boxplot(figsize=(10,5))"
   ]
  },
  {
   "cell_type": "code",
   "execution_count": 40,
   "metadata": {},
   "outputs": [
    {
     "data": {
      "text/plain": [
       "<AxesSubplot:>"
      ]
     },
     "execution_count": 40,
     "metadata": {},
     "output_type": "execute_result"
    },
    {
     "data": {
      "image/png": "[encoded data removed]",
      "text/plain": [
       "<Figure size 432x288 with 1 Axes>"
      ]
     },
     "metadata": {
      "needs_background": "light"
     },
     "output_type": "display_data"
    }
   ],
   "source": [
    "df[\"bodyfat\"].hist()"
   ]
  },
  {
   "cell_type": "code",
   "execution_count": 39,
   "metadata": {},
   "outputs": [
    {
     "data": {
      "text/html": [
       "<div>\n",
       "<style scoped>\n",
       "    .dataframe tbody tr th:only-of-type {\n",
       "        vertical-align: middle;\n",
       "    }\n",
       "\n",
       "    .dataframe tbody tr th {\n",
       "        vertical-align: top;\n",
       "    }\n",
       "\n",
       "    .dataframe thead th {\n",
       "        text-align: right;\n",
       "    }\n",
       "</style>\n",
       "<table border=\"1\" class=\"dataframe\">\n",
       "  <thead>\n",
       "    <tr style=\"text-align: right;\">\n",
       "      <th></th>\n",
       "      <th>Density</th>\n",
       "      <th>bodyfat</th>\n",
       "      <th>Age</th>\n",
       "      <th>Weight</th>\n",
       "      <th>Height</th>\n",
       "      <th>Neck</th>\n",
       "      <th>Chest</th>\n",
       "      <th>Abdomen</th>\n",
       "      <th>Hip</th>\n",
       "      <th>Thigh</th>\n",
       "      <th>Knee</th>\n",
       "      <th>Ankle</th>\n",
       "      <th>Biceps</th>\n",
       "      <th>Forearm</th>\n",
       "      <th>Wrist</th>\n",
       "    </tr>\n",
       "  </thead>\n",
       "  <tbody>\n",
       "    <tr>\n",
       "      <th>0</th>\n",
       "      <td>0.665496</td>\n",
       "      <td>0.258947</td>\n",
       "      <td>0.016949</td>\n",
       "      <td>0.146127</td>\n",
       "      <td>0.792746</td>\n",
       "      <td>0.253731</td>\n",
       "      <td>0.242531</td>\n",
       "      <td>0.200762</td>\n",
       "      <td>0.151515</td>\n",
       "      <td>0.294264</td>\n",
       "      <td>0.267081</td>\n",
       "      <td>0.189189</td>\n",
       "      <td>0.356436</td>\n",
       "      <td>0.460432</td>\n",
       "      <td>0.232143</td>\n",
       "    </tr>\n",
       "    <tr>\n",
       "      <th>1</th>\n",
       "      <td>0.792801</td>\n",
       "      <td>0.128421</td>\n",
       "      <td>0.000000</td>\n",
       "      <td>0.223789</td>\n",
       "      <td>0.886010</td>\n",
       "      <td>0.368159</td>\n",
       "      <td>0.251318</td>\n",
       "      <td>0.172808</td>\n",
       "      <td>0.218501</td>\n",
       "      <td>0.286783</td>\n",
       "      <td>0.267081</td>\n",
       "      <td>0.290541</td>\n",
       "      <td>0.282178</td>\n",
       "      <td>0.568345</td>\n",
       "      <td>0.428571</td>\n",
       "    </tr>\n",
       "    <tr>\n",
       "      <th>2</th>\n",
       "      <td>0.407375</td>\n",
       "      <td>0.532632</td>\n",
       "      <td>0.000000</td>\n",
       "      <td>0.145105</td>\n",
       "      <td>0.761658</td>\n",
       "      <td>0.144279</td>\n",
       "      <td>0.289982</td>\n",
       "      <td>0.235070</td>\n",
       "      <td>0.226475</td>\n",
       "      <td>0.309227</td>\n",
       "      <td>0.366460</td>\n",
       "      <td>0.331081</td>\n",
       "      <td>0.198020</td>\n",
       "      <td>0.302158</td>\n",
       "      <td>0.142857</td>\n",
       "    </tr>\n",
       "    <tr>\n",
       "      <th>3</th>\n",
       "      <td>0.703248</td>\n",
       "      <td>0.218947</td>\n",
       "      <td>0.067797</td>\n",
       "      <td>0.270795</td>\n",
       "      <td>0.886010</td>\n",
       "      <td>0.313433</td>\n",
       "      <td>0.395431</td>\n",
       "      <td>0.216010</td>\n",
       "      <td>0.258373</td>\n",
       "      <td>0.321696</td>\n",
       "      <td>0.267081</td>\n",
       "      <td>0.250000</td>\n",
       "      <td>0.376238</td>\n",
       "      <td>0.604317</td>\n",
       "      <td>0.428571</td>\n",
       "    </tr>\n",
       "    <tr>\n",
       "      <th>4</th>\n",
       "      <td>0.342406</td>\n",
       "      <td>0.604211</td>\n",
       "      <td>0.033898</td>\n",
       "      <td>0.268751</td>\n",
       "      <td>0.865285</td>\n",
       "      <td>0.164179</td>\n",
       "      <td>0.316344</td>\n",
       "      <td>0.388818</td>\n",
       "      <td>0.269537</td>\n",
       "      <td>0.399002</td>\n",
       "      <td>0.571429</td>\n",
       "      <td>0.331081</td>\n",
       "      <td>0.366337</td>\n",
       "      <td>0.482014</td>\n",
       "      <td>0.339286</td>\n",
       "    </tr>\n",
       "    <tr>\n",
       "      <th>...</th>\n",
       "      <td>...</td>\n",
       "      <td>...</td>\n",
       "      <td>...</td>\n",
       "      <td>...</td>\n",
       "      <td>...</td>\n",
       "      <td>...</td>\n",
       "      <td>...</td>\n",
       "      <td>...</td>\n",
       "      <td>...</td>\n",
       "      <td>...</td>\n",
       "      <td>...</td>\n",
       "      <td>...</td>\n",
       "      <td>...</td>\n",
       "      <td>...</td>\n",
       "      <td>...</td>\n",
       "    </tr>\n",
       "    <tr>\n",
       "      <th>247</th>\n",
       "      <td>0.690079</td>\n",
       "      <td>0.231579</td>\n",
       "      <td>0.813559</td>\n",
       "      <td>0.064378</td>\n",
       "      <td>0.777202</td>\n",
       "      <td>0.189055</td>\n",
       "      <td>0.173989</td>\n",
       "      <td>0.180432</td>\n",
       "      <td>0.060606</td>\n",
       "      <td>0.059850</td>\n",
       "      <td>0.111801</td>\n",
       "      <td>0.162162</td>\n",
       "      <td>0.039604</td>\n",
       "      <td>0.338129</td>\n",
       "      <td>0.482143</td>\n",
       "    </tr>\n",
       "    <tr>\n",
       "      <th>248</th>\n",
       "      <td>0.251097</td>\n",
       "      <td>0.707368</td>\n",
       "      <td>0.847458</td>\n",
       "      <td>0.337216</td>\n",
       "      <td>0.834197</td>\n",
       "      <td>0.487562</td>\n",
       "      <td>0.513181</td>\n",
       "      <td>0.452351</td>\n",
       "      <td>0.311005</td>\n",
       "      <td>0.309227</td>\n",
       "      <td>0.484472</td>\n",
       "      <td>0.277027</td>\n",
       "      <td>0.514851</td>\n",
       "      <td>0.546763</td>\n",
       "      <td>0.767857</td>\n",
       "    </tr>\n",
       "    <tr>\n",
       "      <th>249</th>\n",
       "      <td>0.331870</td>\n",
       "      <td>0.616842</td>\n",
       "      <td>0.847458</td>\n",
       "      <td>0.278970</td>\n",
       "      <td>0.756477</td>\n",
       "      <td>0.388060</td>\n",
       "      <td>0.558875</td>\n",
       "      <td>0.534943</td>\n",
       "      <td>0.266348</td>\n",
       "      <td>0.326683</td>\n",
       "      <td>0.267081</td>\n",
       "      <td>0.162162</td>\n",
       "      <td>0.321782</td>\n",
       "      <td>0.446043</td>\n",
       "      <td>0.392857</td>\n",
       "    </tr>\n",
       "    <tr>\n",
       "      <th>250</th>\n",
       "      <td>0.394205</td>\n",
       "      <td>0.547368</td>\n",
       "      <td>0.847458</td>\n",
       "      <td>0.295320</td>\n",
       "      <td>0.849741</td>\n",
       "      <td>0.388060</td>\n",
       "      <td>0.509666</td>\n",
       "      <td>0.405337</td>\n",
       "      <td>0.204147</td>\n",
       "      <td>0.219451</td>\n",
       "      <td>0.534161</td>\n",
       "      <td>0.243243</td>\n",
       "      <td>0.282178</td>\n",
       "      <td>0.604317</td>\n",
       "      <td>0.714286</td>\n",
       "    </tr>\n",
       "    <tr>\n",
       "      <th>251</th>\n",
       "      <td>0.281826</td>\n",
       "      <td>0.671579</td>\n",
       "      <td>0.881356</td>\n",
       "      <td>0.363785</td>\n",
       "      <td>0.839378</td>\n",
       "      <td>0.482587</td>\n",
       "      <td>0.581722</td>\n",
       "      <td>0.496823</td>\n",
       "      <td>0.352472</td>\n",
       "      <td>0.301746</td>\n",
       "      <td>0.571429</td>\n",
       "      <td>0.371622</td>\n",
       "      <td>0.440594</td>\n",
       "      <td>0.647482</td>\n",
       "      <td>0.910714</td>\n",
       "    </tr>\n",
       "  </tbody>\n",
       "</table>\n",
       "<p>252 rows × 15 columns</p>\n",
       "</div>"
      ],
      "text/plain": [
       "      Density   bodyfat       Age    Weight    Height      Neck     Chest  \\\n",
       "0    0.665496  0.258947  0.016949  0.146127  0.792746  0.253731  0.242531   \n",
       "1    0.792801  0.128421  0.000000  0.223789  0.886010  0.368159  0.251318   \n",
       "2    0.407375  0.532632  0.000000  0.145105  0.761658  0.144279  0.289982   \n",
       "3    0.703248  0.218947  0.067797  0.270795  0.886010  0.313433  0.395431   \n",
       "4    0.342406  0.604211  0.033898  0.268751  0.865285  0.164179  0.316344   \n",
       "..        ...       ...       ...       ...       ...       ...       ...   \n",
       "247  0.690079  0.231579  0.813559  0.064378  0.777202  0.189055  0.173989   \n",
       "248  0.251097  0.707368  0.847458  0.337216  0.834197  0.487562  0.513181   \n",
       "249  0.331870  0.616842  0.847458  0.278970  0.756477  0.388060  0.558875   \n",
       "250  0.394205  0.547368  0.847458  0.295320  0.849741  0.388060  0.509666   \n",
       "251  0.281826  0.671579  0.881356  0.363785  0.839378  0.482587  0.581722   \n",
       "\n",
       "      Abdomen       Hip     Thigh      Knee     Ankle    Biceps   Forearm  \\\n",
       "0    0.200762  0.151515  0.294264  0.267081  0.189189  0.356436  0.460432   \n",
       "1    0.172808  0.218501  0.286783  0.267081  0.290541  0.282178  0.568345   \n",
       "2    0.235070  0.226475  0.309227  0.366460  0.331081  0.198020  0.302158   \n",
       "3    0.216010  0.258373  0.321696  0.267081  0.250000  0.376238  0.604317   \n",
       "4    0.388818  0.269537  0.399002  0.571429  0.331081  0.366337  0.482014   \n",
       "..        ...       ...       ...       ...       ...       ...       ...   \n",
       "247  0.180432  0.060606  0.059850  0.111801  0.162162  0.039604  0.338129   \n",
       "248  0.452351  0.311005  0.309227  0.484472  0.277027  0.514851  0.546763   \n",
       "249  0.534943  0.266348  0.326683  0.267081  0.162162  0.321782  0.446043   \n",
       "250  0.405337  0.204147  0.219451  0.534161  0.243243  0.282178  0.604317   \n",
       "251  0.496823  0.352472  0.301746  0.571429  0.371622  0.440594  0.647482   \n",
       "\n",
       "        Wrist  \n",
       "0    0.232143  \n",
       "1    0.428571  \n",
       "2    0.142857  \n",
       "3    0.428571  \n",
       "4    0.339286  \n",
       "..        ...  \n",
       "247  0.482143  \n",
       "248  0.767857  \n",
       "249  0.392857  \n",
       "250  0.714286  \n",
       "251  0.910714  \n",
       "\n",
       "[252 rows x 15 columns]"
      ]
     },
     "execution_count": 39,
     "metadata": {},
     "output_type": "execute_result"
    }
   ],
   "source": [
    "#min max scaler \n",
    "mm=MinMaxScaler()\n",
    "mdf=mm.fit_transform(df)\n",
    "mdf=pd.DataFrame(mdf,columns=df.columns)\n",
    "mdf"
   ]
  },
  {
   "cell_type": "code",
   "execution_count": 41,
   "metadata": {},
   "outputs": [
    {
     "data": {
      "text/plain": [
       "<AxesSubplot:>"
      ]
     },
     "execution_count": 41,
     "metadata": {},
     "output_type": "execute_result"
    },
    {
     "data": {
      "image/png": "[encoded data removed]",
      "text/plain": [
       "<Figure size 432x288 with 1 Axes>"
      ]
     },
     "metadata": {
      "needs_background": "light"
     },
     "output_type": "display_data"
    }
   ],
   "source": [
    "mdf[\"bodyfat\"].hist()"
   ]
  },
  {
   "cell_type": "code",
   "execution_count": 42,
   "metadata": {},
   "outputs": [
    {
     "data": {
      "text/plain": [
       "<AxesSubplot:>"
      ]
     },
     "execution_count": 42,
     "metadata": {},
     "output_type": "execute_result"
    },
    {
     "data": {
      "image/png": "[encoded data removed]",
      "text/plain": [
       "<Figure size 720x360 with 1 Axes>"
      ]
     },
     "metadata": {
      "needs_background": "light"
     },
     "output_type": "display_data"
    }
   ],
   "source": [
    "mdf.boxplot(figsize=(10,5))"
   ]
  },
  {
   "cell_type": "markdown",
   "metadata": {},
   "source": [
    "## Standard Scaler"
   ]
  },
  {
   "cell_type": "code",
   "execution_count": 46,
   "metadata": {},
   "outputs": [
    {
     "data": {
      "text/html": [
       "<div>\n",
       "<style scoped>\n",
       "    .dataframe tbody tr th:only-of-type {\n",
       "        vertical-align: middle;\n",
       "    }\n",
       "\n",
       "    .dataframe tbody tr th {\n",
       "        vertical-align: top;\n",
       "    }\n",
       "\n",
       "    .dataframe thead th {\n",
       "        text-align: right;\n",
       "    }\n",
       "</style>\n",
       "<table border=\"1\" class=\"dataframe\">\n",
       "  <thead>\n",
       "    <tr style=\"text-align: right;\">\n",
       "      <th></th>\n",
       "      <th>Density</th>\n",
       "      <th>bodyfat</th>\n",
       "      <th>Age</th>\n",
       "      <th>Weight</th>\n",
       "      <th>Height</th>\n",
       "      <th>Neck</th>\n",
       "      <th>Chest</th>\n",
       "      <th>Abdomen</th>\n",
       "      <th>Hip</th>\n",
       "      <th>Thigh</th>\n",
       "      <th>Knee</th>\n",
       "      <th>Ankle</th>\n",
       "      <th>Biceps</th>\n",
       "      <th>Forearm</th>\n",
       "      <th>Wrist</th>\n",
       "    </tr>\n",
       "  </thead>\n",
       "  <tbody>\n",
       "    <tr>\n",
       "      <th>0</th>\n",
       "      <td>0.801647</td>\n",
       "      <td>-0.820246</td>\n",
       "      <td>-1.740073</td>\n",
       "      <td>-0.841246</td>\n",
       "      <td>-0.656205</td>\n",
       "      <td>-0.738665</td>\n",
       "      <td>-0.918048</td>\n",
       "      <td>-0.683533</td>\n",
       "      <td>-0.755929</td>\n",
       "      <td>-0.077479</td>\n",
       "      <td>-0.536131</td>\n",
       "      <td>-0.710826</td>\n",
       "      <td>-0.090676</td>\n",
       "      <td>-0.626718</td>\n",
       "      <td>-1.212541</td>\n",
       "    </tr>\n",
       "    <tr>\n",
       "      <th>1</th>\n",
       "      <td>1.565061</td>\n",
       "      <td>-1.562573</td>\n",
       "      <td>-1.819583</td>\n",
       "      <td>-0.193462</td>\n",
       "      <td>0.574790</td>\n",
       "      <td>0.209365</td>\n",
       "      <td>-0.858621</td>\n",
       "      <td>-0.887963</td>\n",
       "      <td>-0.168502</td>\n",
       "      <td>-0.134736</td>\n",
       "      <td>-0.536131</td>\n",
       "      <td>0.175947</td>\n",
       "      <td>-0.588143</td>\n",
       "      <td>0.117079</td>\n",
       "      <td>-0.031943</td>\n",
       "    </tr>\n",
       "    <tr>\n",
       "      <th>2</th>\n",
       "      <td>-0.746240</td>\n",
       "      <td>0.736245</td>\n",
       "      <td>-1.819583</td>\n",
       "      <td>-0.849769</td>\n",
       "      <td>-1.066536</td>\n",
       "      <td>-1.645475</td>\n",
       "      <td>-0.597144</td>\n",
       "      <td>-0.432643</td>\n",
       "      <td>-0.098570</td>\n",
       "      <td>0.037035</td>\n",
       "      <td>0.128592</td>\n",
       "      <td>0.530656</td>\n",
       "      <td>-1.151940</td>\n",
       "      <td>-1.717621</td>\n",
       "      <td>-1.749177</td>\n",
       "    </tr>\n",
       "    <tr>\n",
       "      <th>3</th>\n",
       "      <td>1.028039</td>\n",
       "      <td>-1.047733</td>\n",
       "      <td>-1.501543</td>\n",
       "      <td>0.198617</td>\n",
       "      <td>0.574790</td>\n",
       "      <td>-0.244041</td>\n",
       "      <td>0.115976</td>\n",
       "      <td>-0.572026</td>\n",
       "      <td>0.181157</td>\n",
       "      <td>0.132464</td>\n",
       "      <td>-0.536131</td>\n",
       "      <td>-0.178762</td>\n",
       "      <td>0.041982</td>\n",
       "      <td>0.365012</td>\n",
       "      <td>-0.031943</td>\n",
       "    </tr>\n",
       "    <tr>\n",
       "      <th>4</th>\n",
       "      <td>-1.135844</td>\n",
       "      <td>1.143327</td>\n",
       "      <td>-1.660563</td>\n",
       "      <td>0.181570</td>\n",
       "      <td>0.301235</td>\n",
       "      <td>-1.480601</td>\n",
       "      <td>-0.418864</td>\n",
       "      <td>0.691719</td>\n",
       "      <td>0.279061</td>\n",
       "      <td>0.724121</td>\n",
       "      <td>1.499585</td>\n",
       "      <td>0.530656</td>\n",
       "      <td>-0.024347</td>\n",
       "      <td>-0.477959</td>\n",
       "      <td>-0.568578</td>\n",
       "    </tr>\n",
       "  </tbody>\n",
       "</table>\n",
       "</div>"
      ],
      "text/plain": [
       "    Density   bodyfat       Age    Weight    Height      Neck     Chest  \\\n",
       "0  0.801647 -0.820246 -1.740073 -0.841246 -0.656205 -0.738665 -0.918048   \n",
       "1  1.565061 -1.562573 -1.819583 -0.193462  0.574790  0.209365 -0.858621   \n",
       "2 -0.746240  0.736245 -1.819583 -0.849769 -1.066536 -1.645475 -0.597144   \n",
       "3  1.028039 -1.047733 -1.501543  0.198617  0.574790 -0.244041  0.115976   \n",
       "4 -1.135844  1.143327 -1.660563  0.181570  0.301235 -1.480601 -0.418864   \n",
       "\n",
       "    Abdomen       Hip     Thigh      Knee     Ankle    Biceps   Forearm  \\\n",
       "0 -0.683533 -0.755929 -0.077479 -0.536131 -0.710826 -0.090676 -0.626718   \n",
       "1 -0.887963 -0.168502 -0.134736 -0.536131  0.175947 -0.588143  0.117079   \n",
       "2 -0.432643 -0.098570  0.037035  0.128592  0.530656 -1.151940 -1.717621   \n",
       "3 -0.572026  0.181157  0.132464 -0.536131 -0.178762  0.041982  0.365012   \n",
       "4  0.691719  0.279061  0.724121  1.499585  0.530656 -0.024347 -0.477959   \n",
       "\n",
       "      Wrist  \n",
       "0 -1.212541  \n",
       "1 -0.031943  \n",
       "2 -1.749177  \n",
       "3 -0.031943  \n",
       "4 -0.568578  "
      ]
     },
     "execution_count": 46,
     "metadata": {},
     "output_type": "execute_result"
    }
   ],
   "source": [
    "sc=StandardScaler()\n",
    "scaled_data=sc.fit_transform(df)\n",
    "scaled_data=pd.DataFrame(scaled_data,columns=df.columns)\n",
    "scaled_data.head()"
   ]
  },
  {
   "cell_type": "code",
   "execution_count": 47,
   "metadata": {},
   "outputs": [
    {
     "data": {
      "text/plain": [
       "Density    5.719411e-15\n",
       "bodyfat   -1.603655e-16\n",
       "Age        1.920862e-16\n",
       "Weight     2.757935e-16\n",
       "Height     1.475396e-15\n",
       "Neck      -7.586524e-16\n",
       "Chest     -3.524518e-17\n",
       "Abdomen    3.665498e-16\n",
       "Hip        8.132824e-16\n",
       "Thigh     -8.426626e-16\n",
       "Knee       8.564578e-16\n",
       "Ankle      7.361836e-16\n",
       "Biceps    -8.304644e-17\n",
       "Forearm   -2.977336e-15\n",
       "Wrist      2.854859e-16\n",
       "dtype: float64"
      ]
     },
     "execution_count": 47,
     "metadata": {},
     "output_type": "execute_result"
    }
   ],
   "source": [
    "scaled_data.mean()"
   ]
  },
  {
   "cell_type": "code",
   "execution_count": 48,
   "metadata": {},
   "outputs": [
    {
     "data": {
      "text/plain": [
       "Density    1.00199\n",
       "bodyfat    1.00199\n",
       "Age        1.00199\n",
       "Weight     1.00199\n",
       "Height     1.00199\n",
       "Neck       1.00199\n",
       "Chest      1.00199\n",
       "Abdomen    1.00199\n",
       "Hip        1.00199\n",
       "Thigh      1.00199\n",
       "Knee       1.00199\n",
       "Ankle      1.00199\n",
       "Biceps     1.00199\n",
       "Forearm    1.00199\n",
       "Wrist      1.00199\n",
       "dtype: float64"
      ]
     },
     "execution_count": 48,
     "metadata": {},
     "output_type": "execute_result"
    }
   ],
   "source": [
    "scaled_data.std()"
   ]
  }
 ],
 "metadata": {
  "kernelspec": {
   "display_name": "Python 3",
   "language": "python",
   "name": "python3"
  },
  "language_info": {
   "codemirror_mode": {
    "name": "ipython",
    "version": 3
   },
   "file_extension": ".py",
   "mimetype": "text/x-python",
   "name": "python",
   "nbconvert_exporter": "python",
   "pygments_lexer": "ipython3",
   "version": "3.8.5"
  }
 },
 "nbformat": 4,
 "nbformat_minor": 4
}
