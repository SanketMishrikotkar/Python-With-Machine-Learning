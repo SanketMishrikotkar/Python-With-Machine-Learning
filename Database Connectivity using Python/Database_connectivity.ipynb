{
 "cells": [
  {
   "cell_type": "code",
   "execution_count": 2,
   "metadata": {},
   "outputs": [
    {
     "name": "stdout",
     "output_type": "stream",
     "text": [
      "Collecting pymysqlNote: you may need to restart the kernel to use updated packages.\n",
      "  Using cached PyMySQL-1.0.2-py3-none-any.whl (43 kB)\n",
      "Installing collected packages: pymysql\n",
      "Successfully installed pymysql-1.0.2\n",
      "\n"
     ]
    }
   ],
   "source": [
    "pip install pymysql"
   ]
  },
  {
   "cell_type": "markdown",
   "metadata": {},
   "source": [
    "## Python Database connectivity"
   ]
  },
  {
   "cell_type": "code",
   "execution_count": 5,
   "metadata": {},
   "outputs": [],
   "source": [
    "import pymysql as py\n",
    "#connect python with mysql\n",
    "db=py.connect(host=\"localhost\",user=\"root\",password=\"\",database=\"mydb\")"
   ]
  },
  {
   "cell_type": "code",
   "execution_count": 20,
   "metadata": {},
   "outputs": [],
   "source": [
    "#create cursor for executing the query\n",
    "cur=db.cursor()"
   ]
  },
  {
   "cell_type": "markdown",
   "metadata": {},
   "source": [
    "## Insert"
   ]
  },
  {
   "cell_type": "code",
   "execution_count": 9,
   "metadata": {},
   "outputs": [
    {
     "name": "stdout",
     "output_type": "stream",
     "text": [
      "Enter rollno:2\n",
      "Enter name:xyz\n",
      "Enter email:xyz@gmail.com\n",
      "Enter contact:1234567890\n",
      "Enter address:Mumbai\n"
     ]
    }
   ],
   "source": [
    "#user input\n",
    "roll_no=int(input(\"Enter rollno:\"))\n",
    "name=input(\"Enter name:\")\n",
    "email=input(\"Enter email:\")\n",
    "contact=input(\"Enter contact:\")\n",
    "address=input(\"Enter address:\")\n",
    "#insert Query\n",
    "query=\"insert into student values(%s,%s,%s,%s,%s)\"\n",
    "val=[roll_no,name,email,contact,address]\n",
    "#execution of query\n",
    "cur.execute(query,val)\n",
    "#final commit for reflecting the changes\n",
    "db.commit()\n"
   ]
  },
  {
   "cell_type": "markdown",
   "metadata": {},
   "source": [
    "## Select"
   ]
  },
  {
   "cell_type": "code",
   "execution_count": 10,
   "metadata": {},
   "outputs": [
    {
     "data": {
      "text/plain": [
       "((1, 'abc', 'abc@gmail.com', '1234567890', 'pune'),\n",
       " (2, 'xyz', 'xyz@gmail.com', '1234567890', 'Mumbai'))"
      ]
     },
     "execution_count": 10,
     "metadata": {},
     "output_type": "execute_result"
    }
   ],
   "source": [
    "query=\"select * from student\"\n",
    "cur.execute(query)\n",
    "data=cur.fetchall()\n",
    "data"
   ]
  },
  {
   "cell_type": "code",
   "execution_count": 12,
   "metadata": {},
   "outputs": [
    {
     "data": {
      "text/plain": [
       "(2, 'xyz', 'xyz@gmail.com', '1234567890', 'Mumbai')"
      ]
     },
     "execution_count": 12,
     "metadata": {},
     "output_type": "execute_result"
    }
   ],
   "source": [
    "query=\"select * from student where roll_no>=%s\"\n",
    "val=[2]\n",
    "cur.execute(query,val)\n",
    "data=cur.fetchone()\n",
    "data"
   ]
  },
  {
   "cell_type": "code",
   "execution_count": 17,
   "metadata": {},
   "outputs": [],
   "source": [
    "query=\"select * from student where roll_no>=%s and address=%s\"\n",
    "val=[2,'Mumbai']\n",
    "cur.execute(query,val)\n",
    "data=cur.fetchone()\n",
    "data"
   ]
  },
  {
   "cell_type": "markdown",
   "metadata": {},
   "source": [
    "## Update"
   ]
  },
  {
   "cell_type": "code",
   "execution_count": 18,
   "metadata": {},
   "outputs": [],
   "source": [
    "q=\"update student set name=%s where roll_no=%s\"\n",
    "val=['Qwerty',2]\n",
    "cur.execute(q,val)\n",
    "db.commit()"
   ]
  },
  {
   "cell_type": "markdown",
   "metadata": {},
   "source": [
    "## Delete"
   ]
  },
  {
   "cell_type": "code",
   "execution_count": 19,
   "metadata": {},
   "outputs": [],
   "source": [
    "q=\"delete from student where roll_no=%s\"\n",
    "val=[2]\n",
    "cur.execute(q,val)\n",
    "db.commit()"
   ]
  }
 ],
 "metadata": {
  "kernelspec": {
   "display_name": "Python 3",
   "language": "python",
   "name": "python3"
  },
  "language_info": {
   "codemirror_mode": {
    "name": "ipython",
    "version": 3
   },
   "file_extension": ".py",
   "mimetype": "text/x-python",
   "name": "python",
   "nbconvert_exporter": "python",
   "pygments_lexer": "ipython3",
   "version": "3.8.5"
  }
 },
 "nbformat": 4,
 "nbformat_minor": 4
}
